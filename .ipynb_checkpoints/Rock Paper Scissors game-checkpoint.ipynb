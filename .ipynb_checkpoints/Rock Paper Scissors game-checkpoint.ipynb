{
 "cells": [
  {
   "cell_type": "code",
   "execution_count": 1,
   "id": "e96a7845-fe14-42d0-b139-45ee3c834187",
   "metadata": {},
   "outputs": [
    {
     "name": "stdin",
     "output_type": "stream",
     "text": [
      "Enter a choice (rock, paper, scissors):  rock\n"
     ]
    },
    {
     "name": "stdout",
     "output_type": "stream",
     "text": [
      "Player: rock\n",
      "Computer: paper\n",
      "You lose!\n"
     ]
    },
    {
     "name": "stdin",
     "output_type": "stream",
     "text": [
      "Play again? (y/n):  y\n",
      "Enter a choice (rock, paper, scissors):  paper\n"
     ]
    },
    {
     "name": "stdout",
     "output_type": "stream",
     "text": [
      "Player: paper\n",
      "Computer: paper\n",
      "It's a tie!\n"
     ]
    },
    {
     "name": "stdin",
     "output_type": "stream",
     "text": [
      "Play again? (y/n):  n\n"
     ]
    },
    {
     "name": "stdout",
     "output_type": "stream",
     "text": [
      "Thanks for playing!\n"
     ]
    }
   ],
   "source": [
    "import random\n",
    "\n",
    "options = (\"rock\", \"paper\", \"scissors\")\n",
    "running = True\n",
    "\n",
    "while running:\n",
    "\n",
    "    player = None\n",
    "    computer = random.choice(options)\n",
    "\n",
    "    while player not in options:\n",
    "        player = input(\"Enter a choice (rock, paper, scissors): \")\n",
    "\n",
    "    print(f\"Player: {player}\")\n",
    "    print(f\"Computer: {computer}\")\n",
    "\n",
    "    if player == computer:\n",
    "        print(\"It's a tie!\")\n",
    "    elif player == \"rock\" and computer == \"scissors\":\n",
    "        print(\"You win!\")\n",
    "    elif player == \"paper\" and computer == \"rock\":\n",
    "        print(\"You win!\")\n",
    "    elif player == \"scissors\" and computer == \"paper\":\n",
    "        print(\"You win!\")\n",
    "    else:\n",
    "        print(\"You lose!\")\n",
    "\n",
    "    if not input(\"Play again? (y/n): \").lower() == \"y\":\n",
    "        running = False\n",
    "\n",
    "print(\"Thanks for playing!\")"
   ]
  },
  {
   "cell_type": "code",
   "execution_count": null,
   "id": "421b0889-d19b-4c51-9c11-fd294d2df8cd",
   "metadata": {},
   "outputs": [],
   "source": []
  }
 ],
 "metadata": {
  "kernelspec": {
   "display_name": "Python 3 (ipykernel)",
   "language": "python",
   "name": "python3"
  },
  "language_info": {
   "codemirror_mode": {
    "name": "ipython",
    "version": 3
   },
   "file_extension": ".py",
   "mimetype": "text/x-python",
   "name": "python",
   "nbconvert_exporter": "python",
   "pygments_lexer": "ipython3",
   "version": "3.11.4"
  }
 },
 "nbformat": 4,
 "nbformat_minor": 5
}
