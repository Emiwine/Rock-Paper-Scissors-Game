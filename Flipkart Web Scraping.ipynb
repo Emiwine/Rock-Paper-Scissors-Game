{
 "cells": [
  {
   "cell_type": "code",
   "execution_count": 146,
   "id": "2abe7000-61cd-4511-8069-82633f0cb574",
   "metadata": {},
   "outputs": [],
   "source": [
    "import requests\n",
    "from bs4 import BeautifulSoup as bs\n",
    "from urllib.request import urlopen  #urllib has a functionality to open the url automatically \n",
    "import logging\n"
   ]
  },
  {
   "cell_type": "code",
   "execution_count": 147,
   "id": "fc886375-09f3-423b-9a98-94c4fd7174c1",
   "metadata": {},
   "outputs": [],
   "source": [
    "flipkart_url = \"https://www.flipkart.com/search?q=\" + \"redmi\""
   ]
  },
  {
   "cell_type": "code",
   "execution_count": 148,
   "id": "9ef5d1f4-c754-4470-be1e-d54d628bad96",
   "metadata": {},
   "outputs": [
    {
     "data": {
      "text/plain": [
       "'https://www.flipkart.com/search?q=redmi'"
      ]
     },
     "execution_count": 148,
     "metadata": {},
     "output_type": "execute_result"
    }
   ],
   "source": [
    "flipkart_url"
   ]
  },
  {
   "cell_type": "code",
   "execution_count": 149,
   "id": "46351310-9871-4532-a18f-f062b2edf76f",
   "metadata": {},
   "outputs": [],
   "source": [
    "urlclient = urlopen(flipkart_url)"
   ]
  },
  {
   "cell_type": "code",
   "execution_count": 150,
   "id": "479c6de0-dd45-4eda-8a6a-845a4ff6e3fe",
   "metadata": {},
   "outputs": [
    {
     "data": {
      "text/plain": [
       "<http.client.HTTPResponse at 0x1b476c00ee0>"
      ]
     },
     "execution_count": 150,
     "metadata": {},
     "output_type": "execute_result"
    }
   ],
   "source": [
    "urlclient"
   ]
  },
  {
   "cell_type": "code",
   "execution_count": 151,
   "id": "21a8014c-692f-40b0-a991-97fa8ddeab46",
   "metadata": {},
   "outputs": [],
   "source": [
    "flipkart_page = urlclient.read()"
   ]
  },
  {
   "cell_type": "code",
   "execution_count": 152,
   "id": "a99eb6c6-47ad-4c9a-93ab-dab426da8935",
   "metadata": {},
   "outputs": [],
   "source": [
    "flipkart_html = bs(flipkart_page,\"html.parser\")"
   ]
  },
  {
   "cell_type": "code",
   "execution_count": 153,
   "id": "a803c8dc-31f3-40ce-947a-613a11c6b967",
   "metadata": {},
   "outputs": [],
   "source": [
    "Bigbox = flipkart_html.findAll(\"div\" , {\"class\" : \"_1AtVbE col-12-12\"}) #FindAll is findout the all the tags in the flipkart_html"
   ]
  },
  {
   "cell_type": "code",
   "execution_count": 154,
   "id": "0538cf65-a70f-41b2-83c9-86a628474b0e",
   "metadata": {},
   "outputs": [
    {
     "data": {
      "text/plain": [
       "30"
      ]
     },
     "execution_count": 154,
     "metadata": {},
     "output_type": "execute_result"
    }
   ],
   "source": [
    "len(Bigbox)"
   ]
  },
  {
   "cell_type": "code",
   "execution_count": 155,
   "id": "5f8b11de-1733-40b2-9c95-22a1ab30136c",
   "metadata": {},
   "outputs": [],
   "source": [
    "del Bigbox[0:3]"
   ]
  },
  {
   "cell_type": "code",
   "execution_count": 156,
   "id": "f94e2869-38ef-461e-a2ce-c31cd1104ee9",
   "metadata": {},
   "outputs": [],
   "source": [
    "product_link = \"https://www.flipkart.com\" + Bigbox[3].div.div.div.a[\"href\"] \n",
    "#because the link is availiable in after the three div tags in the flipkart inspect "
   ]
  },
  {
   "cell_type": "code",
   "execution_count": 157,
   "id": "6a27032b-a46d-4d30-a5b4-1b811ea80a74",
   "metadata": {},
   "outputs": [],
   "source": [
    "product_req = requests.get(product_link)"
   ]
  },
  {
   "cell_type": "code",
   "execution_count": 158,
   "id": "a3382cbd-097f-4b5e-87c8-3589a3740db7",
   "metadata": {},
   "outputs": [
    {
     "data": {
      "text/plain": [
       "'https://www.flipkart.com/redmi-12-jade-black-128-gb/p/itm7b10fd42f78b2?pid=MOBGRMFKKDQ2A3V4&lid=LSTMOBGRMFKKDQ2A3V4XZOVEW&marketplace=FLIPKART&q=redmi&store=tyy%2F4io&srno=s_1_5&otracker=search&fm=organic&iid=f0119897-8ff7-4949-a08a-dbe6730e0579.MOBGRMFKKDQ2A3V4.SEARCH&ppt=None&ppn=None&ssid=cy63lysc8w0000001711827858380&qH=9b6bf0057c19bd94'"
      ]
     },
     "execution_count": 158,
     "metadata": {},
     "output_type": "execute_result"
    }
   ],
   "source": [
    "product_link"
   ]
  },
  {
   "cell_type": "code",
   "execution_count": 159,
   "id": "62b3fe92-c989-4547-83c7-167784bc0515",
   "metadata": {},
   "outputs": [],
   "source": [
    "product_html = bs(product_req.text , 'html.parser')"
   ]
  },
  {
   "cell_type": "code",
   "execution_count": 160,
   "id": "980bd1ba-d26c-4b70-918f-34f299c4cbba",
   "metadata": {},
   "outputs": [],
   "source": [
    "comment_box = product_html.findAll(\"div\" , {\"class\" :\"_16PBlm\"})"
   ]
  },
  {
   "cell_type": "code",
   "execution_count": 161,
   "id": "b28904eb-fd0a-4a38-8b5b-e40c2ed85662",
   "metadata": {},
   "outputs": [
    {
     "data": {
      "text/plain": [
       "11"
      ]
     },
     "execution_count": 161,
     "metadata": {},
     "output_type": "execute_result"
    }
   ],
   "source": [
    "len(comment_box)"
   ]
  },
  {
   "cell_type": "code",
   "execution_count": 162,
   "id": "2e9acd24-ae37-420a-b78f-389df5f9577b",
   "metadata": {},
   "outputs": [
    {
     "data": {
      "text/plain": [
       "'Nikhil Harale'"
      ]
     },
     "execution_count": 162,
     "metadata": {},
     "output_type": "execute_result"
    }
   ],
   "source": [
    "comment_box[0].div.div.findAll(\"p\" , {\"class\" : \"_2sc7ZR _2V5EHH\"})[0].text #here it will give the name who comment in the review"
   ]
  },
  {
   "cell_type": "code",
   "execution_count": 163,
   "id": "4675bd18-cffd-4f75-a058-221ce4768fb2",
   "metadata": {},
   "outputs": [
    {
     "name": "stdout",
     "output_type": "stream",
     "text": [
      "Nikhil Harale\n",
      "Smriti Sinha\n",
      "Raj Singh\n",
      "Nabajit Swargiary\n",
      "Dekanand rout\n",
      "Shubham  Singh\n",
      "sahib Customer\n",
      "Sumit Prakash\n",
      "Chandrashekhar \n",
      "akanksha kashyap\n"
     ]
    },
    {
     "ename": "AttributeError",
     "evalue": "'NoneType' object has no attribute 'div'",
     "output_type": "error",
     "traceback": [
      "\u001b[1;31m---------------------------------------------------------------------------\u001b[0m",
      "\u001b[1;31mAttributeError\u001b[0m                            Traceback (most recent call last)",
      "Cell \u001b[1;32mIn[163], line 2\u001b[0m\n\u001b[0;32m      1\u001b[0m \u001b[38;5;28;01mfor\u001b[39;00m i \u001b[38;5;129;01min\u001b[39;00m comment_box:\n\u001b[1;32m----> 2\u001b[0m     \u001b[38;5;28mprint\u001b[39m(\u001b[43mi\u001b[49m\u001b[38;5;241;43m.\u001b[39;49m\u001b[43mdiv\u001b[49m\u001b[38;5;241;43m.\u001b[39;49m\u001b[43mdiv\u001b[49m\u001b[38;5;241m.\u001b[39mfindAll(\u001b[38;5;124m\"\u001b[39m\u001b[38;5;124mp\u001b[39m\u001b[38;5;124m\"\u001b[39m , {\u001b[38;5;124m\"\u001b[39m\u001b[38;5;124mclass\u001b[39m\u001b[38;5;124m\"\u001b[39m : \u001b[38;5;124m\"\u001b[39m\u001b[38;5;124m_2sc7ZR _2V5EHH\u001b[39m\u001b[38;5;124m\"\u001b[39m})[\u001b[38;5;241m0\u001b[39m]\u001b[38;5;241m.\u001b[39mtext)\n",
      "\u001b[1;31mAttributeError\u001b[0m: 'NoneType' object has no attribute 'div'"
     ]
    }
   ],
   "source": [
    "for i in comment_box:\n",
    "    print(i.div.div.findAll(\"p\" , {\"class\" : \"_2sc7ZR _2V5EHH\"})[0].text)"
   ]
  },
  {
   "cell_type": "code",
   "execution_count": 164,
   "id": "de5621e6-860f-453e-8dc2-835f785f21cb",
   "metadata": {},
   "outputs": [
    {
     "name": "stdout",
     "output_type": "stream",
     "text": [
      "5\n",
      "5\n",
      "5\n",
      "5\n",
      "5\n",
      "3\n",
      "4\n",
      "5\n",
      "5\n",
      "5\n"
     ]
    },
    {
     "ename": "AttributeError",
     "evalue": "'NoneType' object has no attribute 'div'",
     "output_type": "error",
     "traceback": [
      "\u001b[1;31m---------------------------------------------------------------------------\u001b[0m",
      "\u001b[1;31mAttributeError\u001b[0m                            Traceback (most recent call last)",
      "Cell \u001b[1;32mIn[164], line 3\u001b[0m\n\u001b[0;32m      1\u001b[0m \u001b[38;5;66;03m#It will give all the rating numbers aviliable \u001b[39;00m\n\u001b[0;32m      2\u001b[0m \u001b[38;5;28;01mfor\u001b[39;00m i \u001b[38;5;129;01min\u001b[39;00m comment_box:\n\u001b[1;32m----> 3\u001b[0m     \u001b[38;5;28mprint\u001b[39m(\u001b[43mi\u001b[49m\u001b[38;5;241;43m.\u001b[39;49m\u001b[43mdiv\u001b[49m\u001b[38;5;241;43m.\u001b[39;49m\u001b[43mdiv\u001b[49m\u001b[38;5;241m.\u001b[39mdiv\u001b[38;5;241m.\u001b[39mdiv\u001b[38;5;241m.\u001b[39mtext)\n",
      "\u001b[1;31mAttributeError\u001b[0m: 'NoneType' object has no attribute 'div'"
     ]
    }
   ],
   "source": [
    "#It will give all the rating numbers aviliable \n",
    "for i in comment_box:\n",
    "    print(i.div.div.div.div.text)"
   ]
  },
  {
   "cell_type": "code",
   "execution_count": 165,
   "id": "5ccb16b1-1ed2-4e0a-ac79-c31d38f0ccbc",
   "metadata": {},
   "outputs": [
    {
     "name": "stdout",
     "output_type": "stream",
     "text": [
      "Great product\n",
      "Worth every penny\n",
      "Best in the market!\n",
      "Fabulous!\n",
      "Mind-blowing purchase\n",
      "Good\n",
      "Nice product\n",
      "Best in the market!\n",
      "Fabulous!\n",
      "Fabulous!\n"
     ]
    },
    {
     "ename": "AttributeError",
     "evalue": "'NoneType' object has no attribute 'div'",
     "output_type": "error",
     "traceback": [
      "\u001b[1;31m---------------------------------------------------------------------------\u001b[0m",
      "\u001b[1;31mAttributeError\u001b[0m                            Traceback (most recent call last)",
      "Cell \u001b[1;32mIn[165], line 2\u001b[0m\n\u001b[0;32m      1\u001b[0m \u001b[38;5;28;01mfor\u001b[39;00m i \u001b[38;5;129;01min\u001b[39;00m comment_box:\n\u001b[1;32m----> 2\u001b[0m     \u001b[38;5;28mprint\u001b[39m(\u001b[43mi\u001b[49m\u001b[38;5;241;43m.\u001b[39;49m\u001b[43mdiv\u001b[49m\u001b[38;5;241;43m.\u001b[39;49m\u001b[43mdiv\u001b[49m\u001b[38;5;241m.\u001b[39mdiv(\u001b[38;5;124m\"\u001b[39m\u001b[38;5;124mp\u001b[39m\u001b[38;5;124m\"\u001b[39m , {\u001b[38;5;124m\"\u001b[39m\u001b[38;5;124mclass\u001b[39m\u001b[38;5;124m\"\u001b[39m : \u001b[38;5;124m\"\u001b[39m\u001b[38;5;124m_2-N8zT\u001b[39m\u001b[38;5;124m\"\u001b[39m})[\u001b[38;5;241m0\u001b[39m]\u001b[38;5;241m.\u001b[39mtext)\n",
      "\u001b[1;31mAttributeError\u001b[0m: 'NoneType' object has no attribute 'div'"
     ]
    }
   ],
   "source": [
    "for i in comment_box:\n",
    "    print(i.div.div.div(\"p\" , {\"class\" : \"_2-N8zT\"})[0].text)"
   ]
  },
  {
   "cell_type": "code",
   "execution_count": 166,
   "id": "f84ac797-577e-4dcf-9712-bc80c2d24e45",
   "metadata": {},
   "outputs": [
    {
     "name": "stdout",
     "output_type": "stream",
     "text": [
      "Veri nice cameraREAD MORE\n",
      "It's amazing I loved it 🥰❤READ MORE\n",
      "I bought it for my parents they just loved it❤️This is the best phone in the budget just go for it🤘🏻READ MORE\n",
      "Good camera like Dslr blur photo quality superREAD MORE\n",
      "Wow so nice thanks Flipkart..READ MORE\n",
      "Fantastic design And Nice displayGood cameraBut not for gaming because it's too 🔥heatingAnd lagaing in BgmiI think after some time it's hangingREAD MORE\n",
      "Looks like I phoneDesign is very good 💯READ MORE\n",
      "good design, battery, and very smooth  performance .READ MORE\n",
      "Worth every pennyREAD MORE\n",
      "Love the look and performance of this phone.READ MORE\n"
     ]
    },
    {
     "ename": "AttributeError",
     "evalue": "'NoneType' object has no attribute 'div'",
     "output_type": "error",
     "traceback": [
      "\u001b[1;31m---------------------------------------------------------------------------\u001b[0m",
      "\u001b[1;31mAttributeError\u001b[0m                            Traceback (most recent call last)",
      "Cell \u001b[1;32mIn[166], line 2\u001b[0m\n\u001b[0;32m      1\u001b[0m \u001b[38;5;28;01mfor\u001b[39;00m i \u001b[38;5;129;01min\u001b[39;00m comment_box:\n\u001b[1;32m----> 2\u001b[0m     \u001b[38;5;28mprint\u001b[39m(\u001b[43mi\u001b[49m\u001b[38;5;241;43m.\u001b[39;49m\u001b[43mdiv\u001b[49m\u001b[38;5;241;43m.\u001b[39;49m\u001b[43mdiv\u001b[49m\u001b[38;5;241m.\u001b[39mfindAll(\u001b[38;5;124m\"\u001b[39m\u001b[38;5;124mdiv\u001b[39m\u001b[38;5;124m\"\u001b[39m , {\u001b[38;5;124m\"\u001b[39m\u001b[38;5;124mclass\u001b[39m\u001b[38;5;124m\"\u001b[39m : \u001b[38;5;124m\"\u001b[39m\u001b[38;5;124mt-ZTKy\u001b[39m\u001b[38;5;124m\"\u001b[39m})[\u001b[38;5;241m0\u001b[39m]\u001b[38;5;241m.\u001b[39mtext)\n",
      "\u001b[1;31mAttributeError\u001b[0m: 'NoneType' object has no attribute 'div'"
     ]
    }
   ],
   "source": [
    "for i in comment_box:\n",
    "    print(i.div.div.findAll(\"div\" , {\"class\" : \"t-ZTKy\"})[0].text)"
   ]
  },
  {
   "cell_type": "code",
   "execution_count": 167,
   "id": "92e3a5b5-b4fd-47f2-8f6a-967c3d7b5c1c",
   "metadata": {},
   "outputs": [
    {
     "name": "stdout",
     "output_type": "stream",
     "text": [
      "https://www.flipkart.com/redmi-12-moonstone-silver-128-gb/p/itme52e778c12701?pid=MOBGRMFK2MGRNG4Q&lid=LSTMOBGRMFK2MGRNG4QFZLVXT&marketplace=FLIPKART&q=redmi&store=tyy%2F4io&srno=s_1_2&otracker=search&fm=organic&iid=f0119897-8ff7-4949-a08a-dbe6730e0579.MOBGRMFK2MGRNG4Q.SEARCH&ppt=None&ppn=None&ssid=cy63lysc8w0000001711827858380&qH=9b6bf0057c19bd94\n",
      "https://www.flipkart.com/redmi-12-5g-moonstone-silver-128-gb/p/itm6485286f96fb0?pid=MOBGS7JGZBZKPGGB&lid=LSTMOBGS7JGZBZKPGGBG2917R&marketplace=FLIPKART&q=redmi&store=tyy%2F4io&srno=s_1_3&otracker=search&fm=organic&iid=f0119897-8ff7-4949-a08a-dbe6730e0579.MOBGS7JGZBZKPGGB.SEARCH&ppt=None&ppn=None&ssid=cy63lysc8w0000001711827858380&qH=9b6bf0057c19bd94\n",
      "https://www.flipkart.com/redmi-12-5g-jade-black-128-gb/p/itma9b37bec7de7e?pid=MOBGS7GYGUAJ4UYZ&lid=LSTMOBGS7GYGUAJ4UYZOAPCWA&marketplace=FLIPKART&q=redmi&store=tyy%2F4io&srno=s_1_4&otracker=search&fm=organic&iid=f0119897-8ff7-4949-a08a-dbe6730e0579.MOBGS7GYGUAJ4UYZ.SEARCH&ppt=None&ppn=None&ssid=cy63lysc8w0000001711827858380&qH=9b6bf0057c19bd94\n",
      "https://www.flipkart.com/redmi-12-jade-black-128-gb/p/itm7b10fd42f78b2?pid=MOBGRMFKKDQ2A3V4&lid=LSTMOBGRMFKKDQ2A3V4XZOVEW&marketplace=FLIPKART&q=redmi&store=tyy%2F4io&srno=s_1_5&otracker=search&fm=organic&iid=f0119897-8ff7-4949-a08a-dbe6730e0579.MOBGRMFKKDQ2A3V4.SEARCH&ppt=None&ppn=None&ssid=cy63lysc8w0000001711827858380&qH=9b6bf0057c19bd94\n",
      "https://www.flipkart.com/redmi-12-moonstone-silver-128-gb/p/itm6722b15672602?pid=MOBGRMFK4CSR7GGH&lid=LSTMOBGRMFK4CSR7GGHHKEX2Z&marketplace=FLIPKART&q=redmi&store=tyy%2F4io&srno=s_1_6&otracker=search&fm=organic&iid=f0119897-8ff7-4949-a08a-dbe6730e0579.MOBGRMFK4CSR7GGH.SEARCH&ppt=None&ppn=None&ssid=cy63lysc8w0000001711827858380&qH=9b6bf0057c19bd94\n",
      "https://www.flipkart.com/redmi-12-5g-pastel-blue-256-gb/p/itmb36e1b436cfa9?pid=MOBGS9T8EPYWHHSG&lid=LSTMOBGS9T8EPYWHHSGWFNAPH&marketplace=FLIPKART&q=redmi&store=tyy%2F4io&srno=s_1_7&otracker=search&fm=organic&iid=f0119897-8ff7-4949-a08a-dbe6730e0579.MOBGS9T8EPYWHHSG.SEARCH&ppt=None&ppn=None&ssid=cy63lysc8w0000001711827858380&qH=9b6bf0057c19bd94\n",
      "https://www.flipkart.com/redmi-12-pastel-blue-128-gb/p/itm9b1a6640faccd?pid=MOBGRMFKAHNTZPWE&lid=LSTMOBGRMFKAHNTZPWE2VVOSK&marketplace=FLIPKART&q=redmi&store=tyy%2F4io&srno=s_1_8&otracker=search&fm=organic&iid=f0119897-8ff7-4949-a08a-dbe6730e0579.MOBGRMFKAHNTZPWE.SEARCH&ppt=None&ppn=None&ssid=cy63lysc8w0000001711827858380&qH=9b6bf0057c19bd94\n",
      "https://www.flipkart.com/redmi-12-5g-moonstone-silver-256-gb/p/itmfe69005c78fb2?pid=MOBGS9T7XMXZGXGT&lid=LSTMOBGS9T7XMXZGXGTQKKGGP&marketplace=FLIPKART&q=redmi&store=tyy%2F4io&srno=s_1_9&otracker=search&fm=organic&iid=f0119897-8ff7-4949-a08a-dbe6730e0579.MOBGS9T7XMXZGXGT.SEARCH&ppt=None&ppn=None&ssid=cy63lysc8w0000001711827858380&qH=9b6bf0057c19bd94\n",
      "https://www.flipkart.com/redmi-12-jade-black-128-gb/p/itmb7050ec01c09f?pid=MOBGRMFKTHKQSJEG&lid=LSTMOBGRMFKTHKQSJEGQK3FM2&marketplace=FLIPKART&q=redmi&store=tyy%2F4io&srno=s_1_10&otracker=search&fm=organic&iid=f0119897-8ff7-4949-a08a-dbe6730e0579.MOBGRMFKTHKQSJEG.SEARCH&ppt=None&ppn=None&ssid=cy63lysc8w0000001711827858380&qH=9b6bf0057c19bd94\n",
      "https://www.flipkart.com/redmi-12-5g-pastel-blue-128-gb/p/itme31bda84c6630?pid=MOBGS9T5T9GCCWJM&lid=LSTMOBGS9T5T9GCCWJMQ5SRHH&marketplace=FLIPKART&q=redmi&store=tyy%2F4io&srno=s_1_11&otracker=search&fm=organic&iid=f0119897-8ff7-4949-a08a-dbe6730e0579.MOBGS9T5T9GCCWJM.SEARCH&ppt=None&ppn=None&ssid=cy63lysc8w0000001711827858380&qH=9b6bf0057c19bd94\n",
      "https://www.flipkart.com/redmi-12-5g-moonstone-silver-128-gb/p/itmde9eb55677a6b?pid=MOBGS9T5GBSYKBHM&lid=LSTMOBGS9T5GBSYKBHMRXJLLH&marketplace=FLIPKART&q=redmi&store=tyy%2F4io&srno=s_1_12&otracker=search&fm=organic&iid=f0119897-8ff7-4949-a08a-dbe6730e0579.MOBGS9T5GBSYKBHM.SEARCH&ppt=None&ppn=None&ssid=cy63lysc8w0000001711827858380&qH=9b6bf0057c19bd94\n",
      "https://www.flipkart.com/redmi-note-12-lunar-black-64-gb/p/itm6756d6e7a86be?pid=MOBGNYHZJGGE3ZHM&lid=LSTMOBGNYHZJGGE3ZHMCSWYEM&marketplace=FLIPKART&q=redmi&store=tyy%2F4io&srno=s_1_13&otracker=search&fm=organic&iid=f0119897-8ff7-4949-a08a-dbe6730e0579.MOBGNYHZJGGE3ZHM.SEARCH&ppt=None&ppn=None&ssid=cy63lysc8w0000001711827858380&qH=9b6bf0057c19bd94\n",
      "https://www.flipkart.com/redmi-note-12-sunrise-gold-64-gb/p/itm5d170187bcbf0?pid=MOBGNYHZ7ZGHES2V&lid=LSTMOBGNYHZ7ZGHES2VAOTRKH&marketplace=FLIPKART&q=redmi&store=tyy%2F4io&srno=s_1_14&otracker=search&fm=organic&iid=f0119897-8ff7-4949-a08a-dbe6730e0579.MOBGNYHZ7ZGHES2V.SEARCH&ppt=None&ppn=None&ssid=cy63lysc8w0000001711827858380&qH=9b6bf0057c19bd94\n",
      "https://www.flipkart.com/redmi-12-5g-jade-black-128-gb/p/itmb7b9567637d5c?pid=MOBGS9QU7QVWUWRD&lid=LSTMOBGS9QU7QVWUWRDWPHNEP&marketplace=FLIPKART&q=redmi&store=tyy%2F4io&srno=s_1_15&otracker=search&fm=organic&iid=f0119897-8ff7-4949-a08a-dbe6730e0579.MOBGS9QU7QVWUWRD.SEARCH&ppt=None&ppn=None&ssid=cy63lysc8w0000001711827858380&qH=9b6bf0057c19bd94\n",
      "https://www.flipkart.com/redmi-note-12-sunrise-gold-128-gb/p/itm4e485ddec3bbf?pid=MOBGNYHZ7WRZ2RGT&lid=LSTMOBGNYHZ7WRZ2RGTPK1VQE&marketplace=FLIPKART&q=redmi&store=tyy%2F4io&srno=s_1_16&otracker=search&fm=organic&iid=f0119897-8ff7-4949-a08a-dbe6730e0579.MOBGNYHZ7WRZ2RGT.SEARCH&ppt=None&ppn=None&ssid=cy63lysc8w0000001711827858380&qH=9b6bf0057c19bd94\n",
      "https://www.flipkart.com/redmi-note-12-5g-mystique-blue-256-gb/p/itm315369373c048?pid=MOBGPGBZHPTYTRM4&lid=LSTMOBGPGBZHPTYTRM4HTSRNJ&marketplace=FLIPKART&q=redmi&store=tyy%2F4io&srno=s_1_17&otracker=search&fm=organic&iid=f0119897-8ff7-4949-a08a-dbe6730e0579.MOBGPGBZHPTYTRM4.SEARCH&ppt=None&ppn=None&ssid=cy63lysc8w0000001711827858380&qH=9b6bf0057c19bd94\n",
      "https://www.flipkart.com/redmi-12c-royal-blue-128-gb/p/itm913784f31d7c5?pid=MOBGZH5RJTE3FSBW&lid=LSTMOBGZH5RJTE3FSBWXGFRXW&marketplace=FLIPKART&q=redmi&store=tyy%2F4io&srno=s_1_18&otracker=search&fm=organic&iid=f0119897-8ff7-4949-a08a-dbe6730e0579.MOBGZH5RJTE3FSBW.SEARCH&ppt=None&ppn=None&ssid=cy63lysc8w0000001711827858380&qH=9b6bf0057c19bd94\n",
      "https://www.flipkart.com/redmi-note-12-5g-matte-black-256-gb/p/itmd22fe65114bd9?pid=MOBGPGBZEHZYWQZX&lid=LSTMOBGPGBZEHZYWQZX0JSMNR&marketplace=FLIPKART&q=redmi&store=tyy%2F4io&srno=s_1_19&otracker=search&fm=organic&iid=f0119897-8ff7-4949-a08a-dbe6730e0579.MOBGPGBZEHZYWQZX.SEARCH&ppt=None&ppn=None&ssid=cy63lysc8w0000001711827858380&qH=9b6bf0057c19bd94\n",
      "https://www.flipkart.com/redmi-note-12-5g-matte-black-128-gb/p/itmd0f3dc327bca7?pid=MOBGHNFJPHFFUYM7&lid=LSTMOBGHNFJPHFFUYM7BFWGNA&marketplace=FLIPKART&q=redmi&store=tyy%2F4io&srno=s_1_20&otracker=search&fm=organic&iid=f0119897-8ff7-4949-a08a-dbe6730e0579.MOBGHNFJPHFFUYM7.SEARCH&ppt=None&ppn=None&ssid=cy63lysc8w0000001711827858380&qH=9b6bf0057c19bd94\n",
      "https://www.flipkart.com/redmi-12-5g-moonstone-silver-256-gb/p/itmf0b10f16fa25f?pid=MOBGZF9P4ZUCBJCE&lid=LSTMOBGZF9P4ZUCBJCEUHVABP&marketplace=FLIPKART&q=redmi&store=tyy%2F4io&srno=s_1_21&otracker=search&fm=organic&iid=f0119897-8ff7-4949-a08a-dbe6730e0579.MOBGZF9P4ZUCBJCE.SEARCH&ppt=None&ppn=None&ssid=cy63lysc8w0000001711827858380&qH=9b6bf0057c19bd94\n",
      "https://www.flipkart.com/redmi-12-pastel-blue-128-gb/p/itm6eff73774cd3f?pid=MOBGZF9P5SUM5DKS&lid=LSTMOBGZF9P5SUM5DKSOFHBFK&marketplace=FLIPKART&q=redmi&store=tyy%2F4io&srno=s_1_22&otracker=search&fm=organic&iid=f0119897-8ff7-4949-a08a-dbe6730e0579.MOBGZF9P5SUM5DKS.SEARCH&ppt=None&ppn=None&ssid=cy63lysc8w0000001711827858380&qH=9b6bf0057c19bd94\n",
      "https://www.flipkart.com/redmi-note-12-5g-sunrise-gold-256-gb/p/itmb97a84bd0b8c0?pid=MOBGRM9XFJSNYZSG&lid=LSTMOBGRM9XFJSNYZSGFZSQVW&marketplace=FLIPKART&q=redmi&store=tyy%2F4io&srno=s_1_23&otracker=search&fm=organic&iid=f0119897-8ff7-4949-a08a-dbe6730e0579.MOBGRM9XFJSNYZSG.SEARCH&ppt=None&ppn=None&ssid=cy63lysc8w0000001711827858380&qH=9b6bf0057c19bd94\n",
      "https://www.flipkart.com/redmi-12c-lavender-purple-128-gb/p/itm2782654b8ba5b?pid=MOBGZEU9TYHQ8RGE&lid=LSTMOBGZEU9TYHQ8RGEHZ5S15&marketplace=FLIPKART&q=redmi&store=tyy%2F4io&srno=s_1_24&otracker=search&fm=organic&iid=f0119897-8ff7-4949-a08a-dbe6730e0579.MOBGZEU9TYHQ8RGE.SEARCH&ppt=None&ppn=None&ssid=cy63lysc8w0000001711827858380&qH=9b6bf0057c19bd94\n"
     ]
    },
    {
     "ename": "AttributeError",
     "evalue": "'NoneType' object has no attribute 'a'",
     "output_type": "error",
     "traceback": [
      "\u001b[1;31m---------------------------------------------------------------------------\u001b[0m",
      "\u001b[1;31mAttributeError\u001b[0m                            Traceback (most recent call last)",
      "Cell \u001b[1;32mIn[167], line 2\u001b[0m\n\u001b[0;32m      1\u001b[0m \u001b[38;5;28;01mfor\u001b[39;00m i \u001b[38;5;129;01min\u001b[39;00m Bigbox:\n\u001b[1;32m----> 2\u001b[0m     \u001b[38;5;28mprint\u001b[39m(\u001b[38;5;124m\"\u001b[39m\u001b[38;5;124mhttps://www.flipkart.com\u001b[39m\u001b[38;5;124m\"\u001b[39m \u001b[38;5;241m+\u001b[39m \u001b[43mi\u001b[49m\u001b[38;5;241;43m.\u001b[39;49m\u001b[43mdiv\u001b[49m\u001b[38;5;241;43m.\u001b[39;49m\u001b[43mdiv\u001b[49m\u001b[38;5;241;43m.\u001b[39;49m\u001b[43mdiv\u001b[49m\u001b[38;5;241;43m.\u001b[39;49m\u001b[43ma\u001b[49m[\u001b[38;5;124m\"\u001b[39m\u001b[38;5;124mhref\u001b[39m\u001b[38;5;124m\"\u001b[39m])\n",
      "\u001b[1;31mAttributeError\u001b[0m: 'NoneType' object has no attribute 'a'"
     ]
    }
   ],
   "source": [
    "for i in Bigbox:\n",
    "    print(\"https://www.flipkart.com\" + i.div.div.div.a[\"href\"])"
   ]
  },
  {
   "cell_type": "code",
   "execution_count": null,
   "id": "b821452e-b3b7-43e8-976b-ab55694ba4fa",
   "metadata": {},
   "outputs": [],
   "source": []
  },
  {
   "cell_type": "code",
   "execution_count": null,
   "id": "b2ca873c-b7f9-4569-a009-18129b5a25a6",
   "metadata": {},
   "outputs": [],
   "source": []
  },
  {
   "cell_type": "code",
   "execution_count": null,
   "id": "eb2bca31-3ea7-4937-a43d-3e1b018246a2",
   "metadata": {},
   "outputs": [],
   "source": []
  }
 ],
 "metadata": {
  "kernelspec": {
   "display_name": "Python 3 (ipykernel)",
   "language": "python",
   "name": "python3"
  },
  "language_info": {
   "codemirror_mode": {
    "name": "ipython",
    "version": 3
   },
   "file_extension": ".py",
   "mimetype": "text/x-python",
   "name": "python",
   "nbconvert_exporter": "python",
   "pygments_lexer": "ipython3",
   "version": "3.11.4"
  }
 },
 "nbformat": 4,
 "nbformat_minor": 5
}
